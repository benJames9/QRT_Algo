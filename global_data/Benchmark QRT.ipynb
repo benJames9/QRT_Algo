{
 "cells": [
  {
   "cell_type": "markdown",
   "metadata": {},
   "source": [
    "# Benchmark QRT\n",
    "\n",
    "This notebook illustrates a simple benchmark example that should help novice participants to start the competition.\n",
    "\n",
    "## Used libraries"
   ]
  },
  {
   "cell_type": "code",
   "execution_count": null,
   "metadata": {},
   "outputs": [],
   "source": [
    "import numpy as np\n",
    "import pandas as pd\n",
    "from scipy.stats import spearmanr\n",
    "from sklearn.linear_model import LinearRegression\n",
    "\n",
    "import matplotlib.pyplot as plt"
   ]
  },
  {
   "cell_type": "markdown",
   "metadata": {},
   "source": [
    "## Loading data\n",
    "\n",
    "The x_train and x_test sets are composed of 35 columns.\n",
    "\n",
    "The target of this challenge is `TARGET` and corresponds to the price change for daily futures contracts of 24H electricity baseload.\n",
    "\n",
    "Electricity prices can be quite volatile, so we have chosen the Spearman rank correlation as a robust measure for the challenge.\n",
    "\n",
    "Both x_train and y_train have an ID column. This is a unique ID. \n",
    "\n",
    "You will notice some columns have missing values.\n"
   ]
  },
  {
   "cell_type": "code",
   "execution_count": null,
   "metadata": {},
   "outputs": [],
   "source": [
    "x_train = pd.read_csv('x_train.csv')\n",
    "y_train = pd.read_csv('y_train.csv')\n",
    "x_test = pd.read_csv('x_test.csv')\n"
   ]
  },
  {
   "cell_type": "code",
   "execution_count": null,
   "metadata": {},
   "outputs": [],
   "source": [
    "x_train.head()"
   ]
  },
  {
   "cell_type": "code",
   "execution_count": null,
   "metadata": {},
   "outputs": [],
   "source": [
    "y_train.head()"
   ]
  },
  {
   "cell_type": "markdown",
   "metadata": {},
   "source": [
    "## Model and local score\n",
    "\n",
    "We chose a simple linear regression as the challenges' benchmark. The missing values are simply filled with 0, and the COUNTRY column is dropped. \n",
    "\n",
    "**Ideas of improvements**: This challenge will test your knowledge of modeling techniques and feature engineering, as well as proper EDA and validation. Knowledge about the fundamental price drivers of electricity in each country will also be useful. The dataset is small, so you will need to be careful not to overfit to the train data.\n"
   ]
  },
  {
   "cell_type": "code",
   "execution_count": null,
   "metadata": {},
   "outputs": [],
   "source": [
    "lr = LinearRegression()\n",
    "\n",
    "Xt = x_train.drop(['COUNTRY'], axis=1).fillna(0)\n",
    "yt = y_train['TARGET']\n",
    "\n",
    "lr.fit(Xt, yt)\n",
    "\n",
    "print('Spearman correlation for train set {:.1f}%'.format(100 * spearmanr(lr.predict(Xt), yt).correlation))\n"
   ]
  },
  {
   "cell_type": "markdown",
   "metadata": {},
   "source": [
    "## Generate the submission\n",
    "\n",
    "We process the test set the same way as we did on the train set and predict using our linear model, while saving the predictions to a csv file.\n"
   ]
  },
  {
   "cell_type": "code",
   "execution_count": null,
   "metadata": {},
   "outputs": [],
   "source": [
    "x_test.head()"
   ]
  },
  {
   "cell_type": "code",
   "execution_count": null,
   "metadata": {},
   "outputs": [],
   "source": [
    "Xv = x_test.drop(['COUNTRY'], axis=1).fillna(0)\n",
    "\n",
    "y_test_submission = x_test[['ID']].copy()\n",
    "y_test_submission['TARGET'] = lr.predict(Xv)\n",
    "y_test_submission.to_csv('benchmark_qrt.csv', index=False)\n"
   ]
  },
  {
   "cell_type": "markdown",
   "metadata": {},
   "source": [
    "The local spearman correlation is around 27.9%\n",
    "\n",
    "After submitting the benchmark file at https://forms.gle/XrnXx92F6uo2NQ5E8, we obtain a public score of around 15.9 % "
   ]
  },
  {
   "cell_type": "markdown",
   "metadata": {},
   "source": [
    "# Data Description\n",
    "\n",
    "We provide three csv file data sets: training inputs X_train, training outputs Y_train, and test inputs X_test.\n",
    "\n",
    "\n",
    "NB: The input data X_train and X_test represent the same explanatory variables but over two different time periods.\n",
    "\n",
    "The columns ID in X_train and Y_train are identical, and the same holds true for the testing data. 1494 rows are available for the training data sets while 654 observations are used for the test data sets.\n",
    "\n",
    "Input data sets comprise 35 columns:\n",
    "\n",
    "ID: Unique row identifier, associated with a day (DAY_ID) and a country (COUNTRY),\n",
    "\n",
    "DAY_ID: Day identifier - dates have been anonymized, but all data corresponding to a specific day is consistent,\n",
    "\n",
    "COUNTRY: Country identifier - DE = Germany, FR = France,\n",
    "\n",
    "and then contains daily commodity price variations,\n",
    "\n",
    "GAS_RET: European gas,\n",
    "\n",
    "COAL_RET: European coal,\n",
    "\n",
    "CARBON_RET: Carbon emissions futures,\n",
    "\n",
    "weather measures (daily, in the country x),\n",
    "\n",
    "x_TEMP: Temperature,\n",
    "\n",
    "x_RAIN: Rainfall,\n",
    "\n",
    "x_WIND: Wind,\n",
    "\n",
    "energy production measures (daily, in the country x),\n",
    "\n",
    "x_GAS: Natural gas,\n",
    "\n",
    "x_COAL: Hard coal,\n",
    "\n",
    "x_HYDRO: Hydro reservoir,\n",
    "\n",
    "x_NUCLEAR: Daily nuclear production,\n",
    "\n",
    "x_SOLAR: Photovoltaic,\n",
    "\n",
    "x_WINDPOW: Wind power,\n",
    "\n",
    "x_LIGNITE: Lignite,\n",
    "\n",
    "and electricity use metrics (daily, in the country x),\n",
    "\n",
    "x_CONSUMPTON: Total electricity consumption,\n",
    "\n",
    "x_RESIDUAL_LOAD: Electricity consumption after using all renewable energies,\n",
    "\n",
    "x_NET_IMPORT: Imported electricity from Europe,\n",
    "\n",
    "x_NET_EXPORT: Exported electricity to Europe,\n",
    "\n",
    "DE_FR_EXCHANGE: Total daily electricity exchange between Germany and France,\n",
    "\n",
    "FR_DE_EXCHANGE: Total daily electricity exchange between France and Germany.\n",
    "Output data sets are composed of two columns:\n",
    "\n",
    "ID: Unique row identifier - corresponding to the input identifiers,\n",
    "\n",
    "TARGET: Daily price variation for futures of 24H electricity baseload.\n",
    "\n",
    "The solution files submitted by participants shall follow this output data set format, namely to contain two columns ID and TARGET, where the ID values correspond to those of the ID column of X_test. An example of submission file containing random predictions is provided.\n"
   ]
  }
 ],
 "metadata": {
  "hide_input": false,
  "kernelspec": {
   "display_name": "Python 3 (ipykernel)",
   "language": "python",
   "name": "python3"
  },
  "language_info": {
   "codemirror_mode": {
    "name": "ipython",
    "version": 3
   },
   "file_extension": ".py",
   "mimetype": "text/x-python",
   "name": "python",
   "nbconvert_exporter": "python",
   "pygments_lexer": "ipython3",
   "version": "3.11.4"
  },
  "toc": {
   "base_numbering": 1,
   "nav_menu": {},
   "number_sections": true,
   "sideBar": true,
   "skip_h1_title": false,
   "title_cell": "Table of Contents",
   "title_sidebar": "Contents",
   "toc_cell": false,
   "toc_position": {},
   "toc_section_display": true,
   "toc_window_display": false
  }
 },
 "nbformat": 4,
 "nbformat_minor": 2
}
