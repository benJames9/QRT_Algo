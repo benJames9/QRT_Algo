{
 "cells": [
  {
   "cell_type": "code",
   "execution_count": 3,
   "metadata": {},
   "outputs": [],
   "source": [
    "import xgboost\n",
    "import pandas as pd\n",
    "from sklearn.model_selection import train_test_split, KFold, GridSearchCV\n",
    "from sklearn.metrics import mean_squared_error\n",
    "import numpy as np\n",
    "from scipy.stats import spearmanr\n",
    "from sklearn.linear_model import LinearRegression"
   ]
  },
  {
   "cell_type": "code",
   "execution_count": 43,
   "metadata": {},
   "outputs": [],
   "source": [
    "x_train = pd.read_csv('./global_data/x_train.csv')\n",
    "y_train = pd.read_csv('./global_data/y_train.csv')\n",
    "x_test = pd.read_csv('./global_data/x_test.csv')"
   ]
  },
  {
   "cell_type": "code",
   "execution_count": 44,
   "metadata": {},
   "outputs": [],
   "source": [
    "x_train_fr = x_train[x_train['COUNTRY'] == 'FR'].drop('COUNTRY', axis=1)\n",
    "y_train_fr = y_train.merge(x_train_fr)['TARGET']"
   ]
  },
  {
   "cell_type": "code",
   "execution_count": 47,
   "metadata": {},
   "outputs": [],
   "source": [
    "x_train_fr = x_train_fr.fillna(0)"
   ]
  },
  {
   "cell_type": "code",
   "execution_count": 48,
   "metadata": {},
   "outputs": [],
   "source": [
    "def getLr(x, y): \n",
    "    xTr, xTe, yTr, yTe = train_test_split(x, y, test_size=0.2, random_state=42) \n",
    "\n",
    "    lr = LinearRegression()\n",
    "    lr.fit(xTr, yTr)\n",
    "\n",
    "    print('Spearman correlation for train set {:.1f}%'.format(100 * spearmanr(lr.predict(xTe), yTe).correlation))"
   ]
  },
  {
   "cell_type": "code",
   "execution_count": 49,
   "metadata": {},
   "outputs": [
    {
     "name": "stdout",
     "output_type": "stream",
     "text": [
      "Spearman correlation for train set 1.1%\n"
     ]
    }
   ],
   "source": [
    "getLr(x_train_fr, y_train_fr)"
   ]
  },
  {
   "cell_type": "code",
   "execution_count": null,
   "metadata": {},
   "outputs": [],
   "source": []
  }
 ],
 "metadata": {
  "kernelspec": {
   "display_name": "Python 3",
   "language": "python",
   "name": "python3"
  },
  "language_info": {
   "codemirror_mode": {
    "name": "ipython",
    "version": 3
   },
   "file_extension": ".py",
   "mimetype": "text/x-python",
   "name": "python",
   "nbconvert_exporter": "python",
   "pygments_lexer": "ipython3",
   "version": "3.9.1"
  }
 },
 "nbformat": 4,
 "nbformat_minor": 2
}
