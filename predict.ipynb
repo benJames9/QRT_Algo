{
 "cells": [
  {
   "cell_type": "code",
   "execution_count": 401,
   "metadata": {},
   "outputs": [],
   "source": [
    "import pandas as pd\n",
    "from sklearn.model_selection import train_test_split\n",
    "from scipy.stats import spearmanr\n",
    "from sklearn.linear_model import LinearRegression"
   ]
  },
  {
   "cell_type": "code",
   "execution_count": 441,
   "metadata": {},
   "outputs": [],
   "source": [
    "x_train = pd.read_csv('./global_data/x_train.csv')\n",
    "y_train = pd.read_csv('./global_data/y_train.csv')\n",
    "x_test = pd.read_csv('./global_data/x_test.csv')"
   ]
  },
  {
   "cell_type": "code",
   "execution_count": 404,
   "metadata": {},
   "outputs": [],
   "source": [
    "x_train_fr = x_train[x_train['COUNTRY'] == 'FR'].drop('COUNTRY', axis=1).fillna(0)\n",
    "y_train_fr = y_train.merge(x_train_fr)['TARGET'].fillna(0)\n",
    "x_train_de = x_train[x_train['COUNTRY'] == 'DE'].drop('COUNTRY', axis=1).fillna(0)\n",
    "y_train_de = y_train.merge(x_train_de)['TARGET'].fillna(0)"
   ]
  },
  {
   "cell_type": "code",
   "execution_count": 406,
   "metadata": {},
   "outputs": [],
   "source": [
    "def getLR(x, y): \n",
    "    total = 0\n",
    "    loops = 300\n",
    "\n",
    "    for i in range(loops): \n",
    "        xTr, xTe, yTr, yTe = train_test_split(x, y, test_size=0.2, random_state=i) \n",
    "\n",
    "        lr = LinearRegression()\n",
    "        lr.fit(xTr, yTr)\n",
    "        total = total + 100 * spearmanr(lr.predict(xTe), yTe).correlation\n",
    "    \n",
    "    return (total / loops)"
   ]
  },
  {
   "cell_type": "code",
   "execution_count": 408,
   "metadata": {},
   "outputs": [],
   "source": [
    "def getBestAttributeLR(data, x, prev_corr, y):\n",
    "    cols = data.columns.tolist()\n",
    "    corr = 0\n",
    "    feature = None\n",
    "\n",
    "    for col in cols:\n",
    "        x[col] = data[col]\n",
    "        temp_corr = getLR(x, y)\n",
    "        \n",
    "        if temp_corr > corr:\n",
    "            corr = temp_corr\n",
    "            feature = col\n",
    "        else:\n",
    "            x = x.drop(col, axis=1)\n",
    "\n",
    "    if corr < prev_corr or len(cols) == 1 or feature == None:\n",
    "        return x \n",
    "    else:\n",
    "        data = data.drop(feature, axis=1)\n",
    "        return getBestAttributeLR(data, x, corr, y)\n"
   ]
  },
  {
   "cell_type": "code",
   "execution_count": 409,
   "metadata": {},
   "outputs": [],
   "source": [
    "empty_fr = pd.DataFrame() \n",
    "empty_fr['ID'] = x_train_fr['ID']\n",
    "optimum_fr = getBestAttributeLR(x_train_fr, empty_fr, 0, y_train_fr)"
   ]
  },
  {
   "cell_type": "code",
   "execution_count": 410,
   "metadata": {},
   "outputs": [
    {
     "data": {
      "text/html": [
       "<div>\n",
       "<style scoped>\n",
       "    .dataframe tbody tr th:only-of-type {\n",
       "        vertical-align: middle;\n",
       "    }\n",
       "\n",
       "    .dataframe tbody tr th {\n",
       "        vertical-align: top;\n",
       "    }\n",
       "\n",
       "    .dataframe thead th {\n",
       "        text-align: right;\n",
       "    }\n",
       "</style>\n",
       "<table border=\"1\" class=\"dataframe\">\n",
       "  <thead>\n",
       "    <tr style=\"text-align: right;\">\n",
       "      <th></th>\n",
       "      <th>DE_NET_EXPORT</th>\n",
       "      <th>DE_HYDRO</th>\n",
       "      <th>CARBON_RET</th>\n",
       "      <th>ID</th>\n",
       "    </tr>\n",
       "  </thead>\n",
       "  <tbody>\n",
       "    <tr>\n",
       "      <th>0</th>\n",
       "      <td>0.000000</td>\n",
       "      <td>2.209047</td>\n",
       "      <td>-0.002445</td>\n",
       "      <td>1054</td>\n",
       "    </tr>\n",
       "    <tr>\n",
       "      <th>1</th>\n",
       "      <td>-0.573520</td>\n",
       "      <td>0.187964</td>\n",
       "      <td>-0.490365</td>\n",
       "      <td>2049</td>\n",
       "    </tr>\n",
       "    <tr>\n",
       "      <th>2</th>\n",
       "      <td>-0.622021</td>\n",
       "      <td>-0.108578</td>\n",
       "      <td>0.204952</td>\n",
       "      <td>1924</td>\n",
       "    </tr>\n",
       "    <tr>\n",
       "      <th>4</th>\n",
       "      <td>0.000000</td>\n",
       "      <td>-0.230179</td>\n",
       "      <td>2.614378</td>\n",
       "      <td>1101</td>\n",
       "    </tr>\n",
       "    <tr>\n",
       "      <th>5</th>\n",
       "      <td>-1.117139</td>\n",
       "      <td>2.306980</td>\n",
       "      <td>1.124457</td>\n",
       "      <td>1520</td>\n",
       "    </tr>\n",
       "    <tr>\n",
       "      <th>...</th>\n",
       "      <td>...</td>\n",
       "      <td>...</td>\n",
       "      <td>...</td>\n",
       "      <td>...</td>\n",
       "    </tr>\n",
       "    <tr>\n",
       "      <th>1483</th>\n",
       "      <td>-0.977214</td>\n",
       "      <td>1.781299</td>\n",
       "      <td>1.322433</td>\n",
       "      <td>1776</td>\n",
       "    </tr>\n",
       "    <tr>\n",
       "      <th>1486</th>\n",
       "      <td>1.403843</td>\n",
       "      <td>-0.385397</td>\n",
       "      <td>1.472650</td>\n",
       "      <td>1401</td>\n",
       "    </tr>\n",
       "    <tr>\n",
       "      <th>1487</th>\n",
       "      <td>0.101161</td>\n",
       "      <td>-0.315249</td>\n",
       "      <td>0.606318</td>\n",
       "      <td>1728</td>\n",
       "    </tr>\n",
       "    <tr>\n",
       "      <th>1490</th>\n",
       "      <td>0.449153</td>\n",
       "      <td>-0.341147</td>\n",
       "      <td>0.356356</td>\n",
       "      <td>1674</td>\n",
       "    </tr>\n",
       "    <tr>\n",
       "      <th>1492</th>\n",
       "      <td>-0.304856</td>\n",
       "      <td>-0.288150</td>\n",
       "      <td>-0.843812</td>\n",
       "      <td>1454</td>\n",
       "    </tr>\n",
       "  </tbody>\n",
       "</table>\n",
       "<p>851 rows × 4 columns</p>\n",
       "</div>"
      ],
      "text/plain": [
       "      DE_NET_EXPORT  DE_HYDRO  CARBON_RET    ID\n",
       "0          0.000000  2.209047   -0.002445  1054\n",
       "1         -0.573520  0.187964   -0.490365  2049\n",
       "2         -0.622021 -0.108578    0.204952  1924\n",
       "4          0.000000 -0.230179    2.614378  1101\n",
       "5         -1.117139  2.306980    1.124457  1520\n",
       "...             ...       ...         ...   ...\n",
       "1483      -0.977214  1.781299    1.322433  1776\n",
       "1486       1.403843 -0.385397    1.472650  1401\n",
       "1487       0.101161 -0.315249    0.606318  1728\n",
       "1490       0.449153 -0.341147    0.356356  1674\n",
       "1492      -0.304856 -0.288150   -0.843812  1454\n",
       "\n",
       "[851 rows x 4 columns]"
      ]
     },
     "execution_count": 410,
     "metadata": {},
     "output_type": "execute_result"
    }
   ],
   "source": [
    "optimum_fr"
   ]
  },
  {
   "cell_type": "code",
   "execution_count": 411,
   "metadata": {},
   "outputs": [
    {
     "data": {
      "text/plain": [
       "15.64635502501608"
      ]
     },
     "execution_count": 411,
     "metadata": {},
     "output_type": "execute_result"
    }
   ],
   "source": [
    "getLR(optimum_fr, y_train_fr)"
   ]
  },
  {
   "cell_type": "code",
   "execution_count": 412,
   "metadata": {},
   "outputs": [],
   "source": [
    "empty_de = pd.DataFrame() \n",
    "empty_de['ID'] = x_train_de['ID']\n",
    "optimum_de = getBestAttributeLR(x_train_de, empty_de, 0, y_train_de)"
   ]
  },
  {
   "cell_type": "code",
   "execution_count": 413,
   "metadata": {},
   "outputs": [
    {
     "data": {
      "text/html": [
       "<div>\n",
       "<style scoped>\n",
       "    .dataframe tbody tr th:only-of-type {\n",
       "        vertical-align: middle;\n",
       "    }\n",
       "\n",
       "    .dataframe tbody tr th {\n",
       "        vertical-align: top;\n",
       "    }\n",
       "\n",
       "    .dataframe thead th {\n",
       "        text-align: right;\n",
       "    }\n",
       "</style>\n",
       "<table border=\"1\" class=\"dataframe\">\n",
       "  <thead>\n",
       "    <tr style=\"text-align: right;\">\n",
       "      <th></th>\n",
       "      <th>FR_CONSUMPTION</th>\n",
       "      <th>DE_SOLAR</th>\n",
       "      <th>DE_FR_EXCHANGE</th>\n",
       "      <th>FR_NUCLEAR</th>\n",
       "      <th>ID</th>\n",
       "      <th>DE_HYDRO</th>\n",
       "      <th>FR_DE_EXCHANGE</th>\n",
       "      <th>DE_CONSUMPTION</th>\n",
       "      <th>DE_NET_EXPORT</th>\n",
       "      <th>FR_GAS</th>\n",
       "      <th>FR_COAL</th>\n",
       "    </tr>\n",
       "  </thead>\n",
       "  <tbody>\n",
       "    <tr>\n",
       "      <th>3</th>\n",
       "      <td>-0.849198</td>\n",
       "      <td>1.751523</td>\n",
       "      <td>-0.839586</td>\n",
       "      <td>-1.589554</td>\n",
       "      <td>297</td>\n",
       "      <td>-0.368417</td>\n",
       "      <td>0.839586</td>\n",
       "      <td>-0.983324</td>\n",
       "      <td>-0.270870</td>\n",
       "      <td>0.194659</td>\n",
       "      <td>-0.786025</td>\n",
       "    </tr>\n",
       "    <tr>\n",
       "      <th>11</th>\n",
       "      <td>-0.811337</td>\n",
       "      <td>1.172155</td>\n",
       "      <td>0.237105</td>\n",
       "      <td>-1.838556</td>\n",
       "      <td>819</td>\n",
       "      <td>1.282374</td>\n",
       "      <td>-0.237105</td>\n",
       "      <td>-0.055692</td>\n",
       "      <td>-0.851082</td>\n",
       "      <td>-0.145637</td>\n",
       "      <td>-0.770846</td>\n",
       "    </tr>\n",
       "    <tr>\n",
       "      <th>12</th>\n",
       "      <td>-0.331101</td>\n",
       "      <td>-0.324789</td>\n",
       "      <td>0.339942</td>\n",
       "      <td>-1.719257</td>\n",
       "      <td>918</td>\n",
       "      <td>-0.168264</td>\n",
       "      <td>-0.339942</td>\n",
       "      <td>0.532116</td>\n",
       "      <td>-0.173123</td>\n",
       "      <td>1.382599</td>\n",
       "      <td>-0.753365</td>\n",
       "    </tr>\n",
       "    <tr>\n",
       "      <th>13</th>\n",
       "      <td>-1.062255</td>\n",
       "      <td>0.509242</td>\n",
       "      <td>-1.380464</td>\n",
       "      <td>-1.200788</td>\n",
       "      <td>283</td>\n",
       "      <td>0.523610</td>\n",
       "      <td>1.380464</td>\n",
       "      <td>-0.328286</td>\n",
       "      <td>-1.046122</td>\n",
       "      <td>-0.730992</td>\n",
       "      <td>-0.455367</td>\n",
       "    </tr>\n",
       "    <tr>\n",
       "      <th>14</th>\n",
       "      <td>1.629315</td>\n",
       "      <td>-1.234093</td>\n",
       "      <td>1.129663</td>\n",
       "      <td>-0.277100</td>\n",
       "      <td>158</td>\n",
       "      <td>1.223032</td>\n",
       "      <td>-1.129663</td>\n",
       "      <td>1.028987</td>\n",
       "      <td>-0.391261</td>\n",
       "      <td>2.122272</td>\n",
       "      <td>0.857983</td>\n",
       "    </tr>\n",
       "    <tr>\n",
       "      <th>...</th>\n",
       "      <td>...</td>\n",
       "      <td>...</td>\n",
       "      <td>...</td>\n",
       "      <td>...</td>\n",
       "      <td>...</td>\n",
       "      <td>...</td>\n",
       "      <td>...</td>\n",
       "      <td>...</td>\n",
       "      <td>...</td>\n",
       "      <td>...</td>\n",
       "      <td>...</td>\n",
       "    </tr>\n",
       "    <tr>\n",
       "      <th>1485</th>\n",
       "      <td>-0.235078</td>\n",
       "      <td>-0.394101</td>\n",
       "      <td>0.962203</td>\n",
       "      <td>-0.555283</td>\n",
       "      <td>391</td>\n",
       "      <td>0.128621</td>\n",
       "      <td>-0.962203</td>\n",
       "      <td>0.810509</td>\n",
       "      <td>0.971934</td>\n",
       "      <td>0.219593</td>\n",
       "      <td>-0.132530</td>\n",
       "    </tr>\n",
       "    <tr>\n",
       "      <th>1488</th>\n",
       "      <td>-1.051247</td>\n",
       "      <td>0.344296</td>\n",
       "      <td>-1.651718</td>\n",
       "      <td>-1.289413</td>\n",
       "      <td>342</td>\n",
       "      <td>2.053830</td>\n",
       "      <td>1.651718</td>\n",
       "      <td>-0.295522</td>\n",
       "      <td>-1.969871</td>\n",
       "      <td>0.076716</td>\n",
       "      <td>-0.781673</td>\n",
       "    </tr>\n",
       "    <tr>\n",
       "      <th>1489</th>\n",
       "      <td>1.106682</td>\n",
       "      <td>-1.325306</td>\n",
       "      <td>-1.855327</td>\n",
       "      <td>0.712492</td>\n",
       "      <td>459</td>\n",
       "      <td>-0.470809</td>\n",
       "      <td>1.855327</td>\n",
       "      <td>1.529204</td>\n",
       "      <td>-0.218658</td>\n",
       "      <td>1.388269</td>\n",
       "      <td>-0.294001</td>\n",
       "    </tr>\n",
       "    <tr>\n",
       "      <th>1491</th>\n",
       "      <td>0.489199</td>\n",
       "      <td>-0.626731</td>\n",
       "      <td>-0.255778</td>\n",
       "      <td>-0.964588</td>\n",
       "      <td>748</td>\n",
       "      <td>0.037892</td>\n",
       "      <td>0.255778</td>\n",
       "      <td>0.856399</td>\n",
       "      <td>-1.531544</td>\n",
       "      <td>1.866399</td>\n",
       "      <td>-0.180117</td>\n",
       "    </tr>\n",
       "    <tr>\n",
       "      <th>1493</th>\n",
       "      <td>-0.711005</td>\n",
       "      <td>0.792302</td>\n",
       "      <td>0.873016</td>\n",
       "      <td>-1.628392</td>\n",
       "      <td>359</td>\n",
       "      <td>1.689369</td>\n",
       "      <td>-0.873016</td>\n",
       "      <td>0.226730</td>\n",
       "      <td>0.296651</td>\n",
       "      <td>0.171967</td>\n",
       "      <td>-0.308286</td>\n",
       "    </tr>\n",
       "  </tbody>\n",
       "</table>\n",
       "<p>643 rows × 11 columns</p>\n",
       "</div>"
      ],
      "text/plain": [
       "      FR_CONSUMPTION  DE_SOLAR  DE_FR_EXCHANGE  FR_NUCLEAR   ID  DE_HYDRO  \\\n",
       "3          -0.849198  1.751523       -0.839586   -1.589554  297 -0.368417   \n",
       "11         -0.811337  1.172155        0.237105   -1.838556  819  1.282374   \n",
       "12         -0.331101 -0.324789        0.339942   -1.719257  918 -0.168264   \n",
       "13         -1.062255  0.509242       -1.380464   -1.200788  283  0.523610   \n",
       "14          1.629315 -1.234093        1.129663   -0.277100  158  1.223032   \n",
       "...              ...       ...             ...         ...  ...       ...   \n",
       "1485       -0.235078 -0.394101        0.962203   -0.555283  391  0.128621   \n",
       "1488       -1.051247  0.344296       -1.651718   -1.289413  342  2.053830   \n",
       "1489        1.106682 -1.325306       -1.855327    0.712492  459 -0.470809   \n",
       "1491        0.489199 -0.626731       -0.255778   -0.964588  748  0.037892   \n",
       "1493       -0.711005  0.792302        0.873016   -1.628392  359  1.689369   \n",
       "\n",
       "      FR_DE_EXCHANGE  DE_CONSUMPTION  DE_NET_EXPORT    FR_GAS   FR_COAL  \n",
       "3           0.839586       -0.983324      -0.270870  0.194659 -0.786025  \n",
       "11         -0.237105       -0.055692      -0.851082 -0.145637 -0.770846  \n",
       "12         -0.339942        0.532116      -0.173123  1.382599 -0.753365  \n",
       "13          1.380464       -0.328286      -1.046122 -0.730992 -0.455367  \n",
       "14         -1.129663        1.028987      -0.391261  2.122272  0.857983  \n",
       "...              ...             ...            ...       ...       ...  \n",
       "1485       -0.962203        0.810509       0.971934  0.219593 -0.132530  \n",
       "1488        1.651718       -0.295522      -1.969871  0.076716 -0.781673  \n",
       "1489        1.855327        1.529204      -0.218658  1.388269 -0.294001  \n",
       "1491        0.255778        0.856399      -1.531544  1.866399 -0.180117  \n",
       "1493       -0.873016        0.226730       0.296651  0.171967 -0.308286  \n",
       "\n",
       "[643 rows x 11 columns]"
      ]
     },
     "execution_count": 413,
     "metadata": {},
     "output_type": "execute_result"
    }
   ],
   "source": [
    "optimum_de"
   ]
  },
  {
   "cell_type": "code",
   "execution_count": 414,
   "metadata": {},
   "outputs": [
    {
     "data": {
      "text/plain": [
       "38.67580056415262"
      ]
     },
     "execution_count": 414,
     "metadata": {},
     "output_type": "execute_result"
    }
   ],
   "source": [
    "getLR(optimum_de, y_train_de)"
   ]
  },
  {
   "cell_type": "code",
   "execution_count": 417,
   "metadata": {},
   "outputs": [
    {
     "data": {
      "text/html": [
       "<style>#sk-container-id-11 {color: black;}#sk-container-id-11 pre{padding: 0;}#sk-container-id-11 div.sk-toggleable {background-color: white;}#sk-container-id-11 label.sk-toggleable__label {cursor: pointer;display: block;width: 100%;margin-bottom: 0;padding: 0.3em;box-sizing: border-box;text-align: center;}#sk-container-id-11 label.sk-toggleable__label-arrow:before {content: \"▸\";float: left;margin-right: 0.25em;color: #696969;}#sk-container-id-11 label.sk-toggleable__label-arrow:hover:before {color: black;}#sk-container-id-11 div.sk-estimator:hover label.sk-toggleable__label-arrow:before {color: black;}#sk-container-id-11 div.sk-toggleable__content {max-height: 0;max-width: 0;overflow: hidden;text-align: left;background-color: #f0f8ff;}#sk-container-id-11 div.sk-toggleable__content pre {margin: 0.2em;color: black;border-radius: 0.25em;background-color: #f0f8ff;}#sk-container-id-11 input.sk-toggleable__control:checked~div.sk-toggleable__content {max-height: 200px;max-width: 100%;overflow: auto;}#sk-container-id-11 input.sk-toggleable__control:checked~label.sk-toggleable__label-arrow:before {content: \"▾\";}#sk-container-id-11 div.sk-estimator input.sk-toggleable__control:checked~label.sk-toggleable__label {background-color: #d4ebff;}#sk-container-id-11 div.sk-label input.sk-toggleable__control:checked~label.sk-toggleable__label {background-color: #d4ebff;}#sk-container-id-11 input.sk-hidden--visually {border: 0;clip: rect(1px 1px 1px 1px);clip: rect(1px, 1px, 1px, 1px);height: 1px;margin: -1px;overflow: hidden;padding: 0;position: absolute;width: 1px;}#sk-container-id-11 div.sk-estimator {font-family: monospace;background-color: #f0f8ff;border: 1px dotted black;border-radius: 0.25em;box-sizing: border-box;margin-bottom: 0.5em;}#sk-container-id-11 div.sk-estimator:hover {background-color: #d4ebff;}#sk-container-id-11 div.sk-parallel-item::after {content: \"\";width: 100%;border-bottom: 1px solid gray;flex-grow: 1;}#sk-container-id-11 div.sk-label:hover label.sk-toggleable__label {background-color: #d4ebff;}#sk-container-id-11 div.sk-serial::before {content: \"\";position: absolute;border-left: 1px solid gray;box-sizing: border-box;top: 0;bottom: 0;left: 50%;z-index: 0;}#sk-container-id-11 div.sk-serial {display: flex;flex-direction: column;align-items: center;background-color: white;padding-right: 0.2em;padding-left: 0.2em;position: relative;}#sk-container-id-11 div.sk-item {position: relative;z-index: 1;}#sk-container-id-11 div.sk-parallel {display: flex;align-items: stretch;justify-content: center;background-color: white;position: relative;}#sk-container-id-11 div.sk-item::before, #sk-container-id-11 div.sk-parallel-item::before {content: \"\";position: absolute;border-left: 1px solid gray;box-sizing: border-box;top: 0;bottom: 0;left: 50%;z-index: -1;}#sk-container-id-11 div.sk-parallel-item {display: flex;flex-direction: column;z-index: 1;position: relative;background-color: white;}#sk-container-id-11 div.sk-parallel-item:first-child::after {align-self: flex-end;width: 50%;}#sk-container-id-11 div.sk-parallel-item:last-child::after {align-self: flex-start;width: 50%;}#sk-container-id-11 div.sk-parallel-item:only-child::after {width: 0;}#sk-container-id-11 div.sk-dashed-wrapped {border: 1px dashed gray;margin: 0 0.4em 0.5em 0.4em;box-sizing: border-box;padding-bottom: 0.4em;background-color: white;}#sk-container-id-11 div.sk-label label {font-family: monospace;font-weight: bold;display: inline-block;line-height: 1.2em;}#sk-container-id-11 div.sk-label-container {text-align: center;}#sk-container-id-11 div.sk-container {/* jupyter's `normalize.less` sets `[hidden] { display: none; }` but bootstrap.min.css set `[hidden] { display: none !important; }` so we also need the `!important` here to be able to override the default hidden behavior on the sphinx rendered scikit-learn.org. See: https://github.com/scikit-learn/scikit-learn/issues/21755 */display: inline-block !important;position: relative;}#sk-container-id-11 div.sk-text-repr-fallback {display: none;}</style><div id=\"sk-container-id-11\" class=\"sk-top-container\"><div class=\"sk-text-repr-fallback\"><pre>LinearRegression()</pre><b>In a Jupyter environment, please rerun this cell to show the HTML representation or trust the notebook. <br />On GitHub, the HTML representation is unable to render, please try loading this page with nbviewer.org.</b></div><div class=\"sk-container\" hidden><div class=\"sk-item\"><div class=\"sk-estimator sk-toggleable\"><input class=\"sk-toggleable__control sk-hidden--visually\" id=\"sk-estimator-id-11\" type=\"checkbox\" checked><label for=\"sk-estimator-id-11\" class=\"sk-toggleable__label sk-toggleable__label-arrow\">LinearRegression</label><div class=\"sk-toggleable__content\"><pre>LinearRegression()</pre></div></div></div></div></div>"
      ],
      "text/plain": [
       "LinearRegression()"
      ]
     },
     "execution_count": 417,
     "metadata": {},
     "output_type": "execute_result"
    }
   ],
   "source": [
    "lr_fr = LinearRegression()\n",
    "lr_fr.fit(optimum_fr, y_train_fr)\n",
    "lr_de = LinearRegression()\n",
    "lr_de.fit(optimum_de, y_train_de)"
   ]
  },
  {
   "cell_type": "code",
   "execution_count": 419,
   "metadata": {},
   "outputs": [],
   "source": [
    "fr_cols = optimum_fr.columns\n",
    "de_cols = optimum_de.columns"
   ]
  },
  {
   "cell_type": "code",
   "execution_count": 432,
   "metadata": {},
   "outputs": [],
   "source": [
    "x_test_fr = x_test[x_test['COUNTRY'] == 'FR'].drop('COUNTRY', axis=1).fillna(0)[fr_cols]\n",
    "x_test_de = x_test[x_test['COUNTRY'] == 'DE'].drop('COUNTRY', axis=1).fillna(0)[de_cols]\n",
    "\n",
    "y_pred_de = lr_de.predict(x_test_de)\n",
    "y_pred_fr = lr_fr.predict(x_test_fr)\n",
    "\n",
    "y_de = pd.DataFrame()\n",
    "y_de['ID'] = x_test_de['ID']\n",
    "y_de['TARGET'] = y_pred_de\n",
    "\n",
    "y_fr = pd.DataFrame()\n",
    "y_fr['ID'] = x_test_fr['ID']\n",
    "y_fr['TARGET'] = y_pred_fr\n",
    "\n",
    "y_pred = pd.concat([y_fr, y_de])"
   ]
  },
  {
   "cell_type": "code",
   "execution_count": 433,
   "metadata": {},
   "outputs": [],
   "source": [
    "y_csv = y_pred.to_csv('WACC35_Submission1.csv')"
   ]
  },
  {
   "cell_type": "code",
   "execution_count": 468,
   "metadata": {},
   "outputs": [],
   "source": [
    "def test_local(fr_model, de_model):\n",
    "    total = 0\n",
    "    result = 0\n",
    "    loops = 1000\n",
    "\n",
    "    for i in range(loops):\n",
    "        xTr, xTe, yTr, yTe = train_test_split(x_train, y_train, test_size=0.2, random_state=i) \n",
    "\n",
    "        x_test_fr = xTe[xTe['COUNTRY'] == 'FR'].drop('COUNTRY', axis=1).fillna(0)[fr_cols]\n",
    "        x_test_de = xTe[xTe['COUNTRY'] == 'DE'].drop('COUNTRY', axis=1).fillna(0)[de_cols]\n",
    "\n",
    "        y_pred_de = de_model.predict(x_test_de)\n",
    "        y_pred_fr = fr_model.predict(x_test_fr)\n",
    "\n",
    "        y_de = pd.DataFrame()\n",
    "        y_de['ID'] = x_test_de['ID']\n",
    "        y_de['TARGET'] = y_pred_de\n",
    "\n",
    "        y_fr = pd.DataFrame()\n",
    "        y_fr['ID'] = x_test_fr['ID']\n",
    "        y_fr['TARGET'] = y_pred_fr\n",
    "\n",
    "        y_pred = pd.concat([y_fr, y_de])\n",
    "\n",
    "        y_pred = y_pred.sort_values(ascending=True, by='ID')\n",
    "        yTe = yTe.sort_values(ascending=True, by='ID')\n",
    "        spearman = (100 * spearmanr(y_pred['TARGET'], yTe['TARGET']).correlation)\n",
    "        total = total + spearman\n",
    "\n",
    "    result = total / loops\n",
    "    return result"
   ]
  },
  {
   "cell_type": "code",
   "execution_count": 469,
   "metadata": {},
   "outputs": [
    {
     "data": {
      "text/plain": [
       "32.798683045902614"
      ]
     },
     "execution_count": 469,
     "metadata": {},
     "output_type": "execute_result"
    }
   ],
   "source": [
    "test_local(lr_fr, lr_de)"
   ]
  },
  {
   "cell_type": "code",
   "execution_count": null,
   "metadata": {},
   "outputs": [],
   "source": [
    "pls_fr = PLSRegression"
   ]
  }
 ],
 "metadata": {
  "kernelspec": {
   "display_name": "Python 3",
   "language": "python",
   "name": "python3"
  },
  "language_info": {
   "codemirror_mode": {
    "name": "ipython",
    "version": 3
   },
   "file_extension": ".py",
   "mimetype": "text/x-python",
   "name": "python",
   "nbconvert_exporter": "python",
   "pygments_lexer": "ipython3",
   "version": "3.9.1"
  }
 },
 "nbformat": 4,
 "nbformat_minor": 2
}
